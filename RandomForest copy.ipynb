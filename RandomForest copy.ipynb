{
 "cells": [
  {
   "cell_type": "markdown",
   "metadata": {},
   "source": [
    "# Random Forest Models ~6 Minute Run"
   ]
  },
  {
   "cell_type": "code",
   "execution_count": 1,
   "metadata": {},
   "outputs": [
    {
     "name": "stderr",
     "output_type": "stream",
     "text": [
      "WARNING (theano.configdefaults): g++ not detected ! Theano will be unable to execute optimized C-implementations (for both CPU and GPU) and will default to Python implementations. Performance will be severely degraded. To remove this warning, set Theano flags cxx to an empty string.\n",
      "WARNING (theano.tensor.blas): Using NumPy C-API based implementation for BLAS functions.\n"
     ]
    }
   ],
   "source": [
    "# load packages\n",
    "import pandas as pd\n",
    "import numpy as np\n",
    "import matplotlib.pyplot as plt\n",
    "import seaborn as sns\n",
    "import datetime as dt\n",
    "from scipy.signal import savgol_filter\n",
    "import statsmodels.api as sm\n",
    "import pymc3 as pm\n",
    "import statsmodels.api as sm\n",
    "from statsmodels.tools import add_constant\n",
    "from itertools import combinations\n",
    "# settings for seaborn plotting style\n",
    "sns.set(color_codes=True)\n",
    "# settings for seaborn plot sizes\n",
    "sns.set(rc={'figure.figsize':(12,6)})\n",
    "from sklearn.ensemble import RandomForestClassifier\n",
    "from sklearn.model_selection import train_test_split\n",
    "from sklearn.metrics import accuracy_score, confusion_matrix, classification_report"
   ]
  },
  {
   "cell_type": "code",
   "execution_count": 2,
   "metadata": {},
   "outputs": [],
   "source": [
    "# Load data\n",
    "df = pd.read_pickle('nfl_df_averages.pkl')\n",
    "\n",
    "# remove home_homeAvg and home_awayAvg\n",
    "df = df.drop(['home_homeAvg', 'home_awayAvg'], axis=1)"
   ]
  },
  {
   "cell_type": "code",
   "execution_count": 3,
   "metadata": {},
   "outputs": [],
   "source": [
    "# create an X dataframe that is all columns from df with 'Avg' in it\n",
    "X = df[[col for col in df.columns if 'Avg' in col]]\n",
    "\n",
    "# create a y dataframe that is the 'winner' column\n",
    "y = df['winner']\n",
    "\n",
    "# split the data into training and testing sets\n",
    "X_train, X_test, y_train, y_test = train_test_split(X, y, test_size=0.2, random_state=621)"
   ]
  },
  {
   "cell_type": "code",
   "execution_count": 4,
   "metadata": {},
   "outputs": [
    {
     "data": {
      "text/plain": [
       "0.6156716417910447"
      ]
     },
     "execution_count": 4,
     "metadata": {},
     "output_type": "execute_result"
    }
   ],
   "source": [
    "# create a random forest classifier\n",
    "rf = RandomForestClassifier(n_estimators=200, random_state=621)\n",
    "\n",
    "# fit the model to the training data\n",
    "rf.fit(X_train, y_train)\n",
    "\n",
    "# predict the labels of the test set\n",
    "y_pred = rf.predict(X_test)\n",
    "\n",
    "# calculate the accuracy of the model\n",
    "accuracy = accuracy_score(y_test, y_pred)\n",
    "accuracy"
   ]
  },
  {
   "cell_type": "code",
   "execution_count": 5,
   "metadata": {},
   "outputs": [
    {
     "name": "stdout",
     "output_type": "stream",
     "text": [
      "Best n_estimators: 200\n",
      "Best max_depth: 5\n",
      "Best min_samples_leaf: 1\n"
     ]
    }
   ],
   "source": [
    "# perform hyperparameter tuning on n_estimators, max_depth, and min_samples_leaf\n",
    "# create a list of values for n_estimators\n",
    "estimators = [100, 200, 300]\n",
    "\n",
    "# create a list of values for max_depth\n",
    "depth = [5, 10, 15]\n",
    "\n",
    "# create a list of values for min_samples_leaf\n",
    "leaf = [1, 2, 3]\n",
    "\n",
    "# create a list of hyperparameter options\n",
    "hyperparameters = dict(n_estimators=estimators, max_depth=depth, min_samples_leaf=leaf)\n",
    "\n",
    "# create a random forest classifier\n",
    "rf = RandomForestClassifier(random_state=621)\n",
    "\n",
    "# use GridSearch to search for the best hyperparameters\n",
    "from sklearn.model_selection import GridSearchCV\n",
    "clf = GridSearchCV(rf, hyperparameters, cv=5, verbose=0)\n",
    "\n",
    "# fit the model to the training data\n",
    "best_model = clf.fit(X_train, y_train)\n",
    "\n",
    "# print the best hyperparameters\n",
    "print('Best n_estimators:', best_model.best_estimator_.get_params()['n_estimators'])\n",
    "print('Best max_depth:', best_model.best_estimator_.get_params()['max_depth'])\n",
    "print('Best min_samples_leaf:', best_model.best_estimator_.get_params()['min_samples_leaf'])\n"
   ]
  },
  {
   "cell_type": "code",
   "execution_count": 6,
   "metadata": {},
   "outputs": [
    {
     "name": "stdout",
     "output_type": "stream",
     "text": [
      "Best Model Train Accuracy: 0.7143523920653442\n"
     ]
    }
   ],
   "source": [
    "# report bestmodel results\n",
    "print('Best Model Train Accuracy:', best_model.score(X_train, y_train))"
   ]
  },
  {
   "cell_type": "code",
   "execution_count": 10,
   "metadata": {},
   "outputs": [
    {
     "data": {
      "text/plain": [
       "0.6147388059701493"
      ]
     },
     "execution_count": 10,
     "metadata": {},
     "output_type": "execute_result"
    }
   ],
   "source": [
    "# create a random forest classifier using n_estimators=200, max_depth=5, and min_samples_leaf=1\n",
    "rf = RandomForestClassifier(n_estimators=200, max_depth=5, min_samples_leaf=1, random_state=621)\n",
    "\n",
    "# fit the model to the training data\n",
    "rf.fit(X_train, y_train)\n",
    "\n",
    "# predict the labels of the test set\n",
    "y_pred = rf.predict(X_test)\n",
    "\n",
    "# calculate the accuracy of the model\n",
    "accuracy = accuracy_score(y_test, y_pred)\n",
    "accuracy"
   ]
  },
  {
   "cell_type": "code",
   "execution_count": 11,
   "metadata": {},
   "outputs": [
    {
     "data": {
      "text/html": [
       "<div>\n",
       "<style scoped>\n",
       "    .dataframe tbody tr th:only-of-type {\n",
       "        vertical-align: middle;\n",
       "    }\n",
       "\n",
       "    .dataframe tbody tr th {\n",
       "        vertical-align: top;\n",
       "    }\n",
       "\n",
       "    .dataframe thead th {\n",
       "        text-align: right;\n",
       "    }\n",
       "</style>\n",
       "<table border=\"1\" class=\"dataframe\">\n",
       "  <thead>\n",
       "    <tr style=\"text-align: right;\">\n",
       "      <th></th>\n",
       "      <th>importance</th>\n",
       "    </tr>\n",
       "  </thead>\n",
       "  <tbody>\n",
       "    <tr>\n",
       "      <th>score_diff_homeAvg</th>\n",
       "      <td>0.080240</td>\n",
       "    </tr>\n",
       "    <tr>\n",
       "      <th>score_diff_awayAvg</th>\n",
       "      <td>0.078810</td>\n",
       "    </tr>\n",
       "    <tr>\n",
       "      <th>winner_homeAvg</th>\n",
       "      <td>0.059656</td>\n",
       "    </tr>\n",
       "    <tr>\n",
       "      <th>winner_awayAvg</th>\n",
       "      <td>0.048061</td>\n",
       "    </tr>\n",
       "    <tr>\n",
       "      <th>score_awayAvg</th>\n",
       "      <td>0.039329</td>\n",
       "    </tr>\n",
       "    <tr>\n",
       "      <th>score_homeAvg</th>\n",
       "      <td>0.028279</td>\n",
       "    </tr>\n",
       "    <tr>\n",
       "      <th>score_opp_homeAvg</th>\n",
       "      <td>0.025892</td>\n",
       "    </tr>\n",
       "    <tr>\n",
       "      <th>redzone_sucess_awayAvg</th>\n",
       "      <td>0.022518</td>\n",
       "    </tr>\n",
       "    <tr>\n",
       "      <th>sacks_awayAvg</th>\n",
       "      <td>0.018350</td>\n",
       "    </tr>\n",
       "    <tr>\n",
       "      <th>turnovers_awayAvg</th>\n",
       "      <td>0.017645</td>\n",
       "    </tr>\n",
       "  </tbody>\n",
       "</table>\n",
       "</div>"
      ],
      "text/plain": [
       "                        importance\n",
       "score_diff_homeAvg        0.080240\n",
       "score_diff_awayAvg        0.078810\n",
       "winner_homeAvg            0.059656\n",
       "winner_awayAvg            0.048061\n",
       "score_awayAvg             0.039329\n",
       "score_homeAvg             0.028279\n",
       "score_opp_homeAvg         0.025892\n",
       "redzone_sucess_awayAvg    0.022518\n",
       "sacks_awayAvg             0.018350\n",
       "turnovers_awayAvg         0.017645"
      ]
     },
     "execution_count": 11,
     "metadata": {},
     "output_type": "execute_result"
    }
   ],
   "source": [
    "# report feature importances from best model\n",
    "feature_importances = pd.DataFrame(best_model.best_estimator_.feature_importances_,\n",
    "                                      index = X_train.columns,\n",
    "                                        columns=['importance']).sort_values('importance', ascending=False)\n",
    "feature_importances.head(10)\n"
   ]
  }
 ],
 "metadata": {
  "kernelspec": {
   "display_name": "Python 3.9.12 ('base')",
   "language": "python",
   "name": "python3"
  },
  "language_info": {
   "codemirror_mode": {
    "name": "ipython",
    "version": 3
   },
   "file_extension": ".py",
   "mimetype": "text/x-python",
   "name": "python",
   "nbconvert_exporter": "python",
   "pygments_lexer": "ipython3",
   "version": "3.9.12"
  },
  "orig_nbformat": 4,
  "vscode": {
   "interpreter": {
    "hash": "a1cb11db1d9dd19842c8062a0085b340bbaaa5168fc68161d11dbb0d0c58245c"
   }
  }
 },
 "nbformat": 4,
 "nbformat_minor": 2
}
