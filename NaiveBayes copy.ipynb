{
 "cells": [
  {
   "cell_type": "code",
   "execution_count": 1,
   "metadata": {},
   "outputs": [
    {
     "name": "stderr",
     "output_type": "stream",
     "text": [
      "WARNING (theano.configdefaults): g++ not detected ! Theano will be unable to execute optimized C-implementations (for both CPU and GPU) and will default to Python implementations. Performance will be severely degraded. To remove this warning, set Theano flags cxx to an empty string.\n",
      "WARNING (theano.tensor.blas): Using NumPy C-API based implementation for BLAS functions.\n"
     ]
    }
   ],
   "source": [
    "# load packages\n",
    "import pandas as pd\n",
    "import numpy as np\n",
    "import matplotlib.pyplot as plt\n",
    "import seaborn as sns\n",
    "import datetime as dt\n",
    "from scipy.signal import savgol_filter\n",
    "import statsmodels.api as sm\n",
    "import pymc3 as pm\n",
    "import statsmodels.api as sm\n",
    "from statsmodels.tools import add_constant\n",
    "from itertools import combinations\n",
    "# settings for seaborn plotting style\n",
    "sns.set(color_codes=True)\n",
    "# settings for seaborn plot sizes\n",
    "sns.set(rc={'figure.figsize':(12,6)})\n",
    "from sklearn.ensemble import RandomForestClassifier\n",
    "from sklearn.model_selection import train_test_split\n",
    "from sklearn.metrics import accuracy_score, confusion_matrix, classification_report"
   ]
  },
  {
   "cell_type": "code",
   "execution_count": 2,
   "metadata": {},
   "outputs": [],
   "source": [
    "df = pd.read_pickle('nfl_df_averages.pkl')\n",
    "# create X and y\n",
    "# define X to be df with all columns that have Avg in the name\n",
    "X = df[[col for col in df.columns if 'Avg' in col]]\n",
    "# remove home_homeAvg and home_awayAvg\n",
    "X = X.drop(['home_homeAvg', 'home_awayAvg'], axis=1)\n",
    "# y is the winner column\n",
    "y = df['winner']\n",
    "# do an 80/20 train/test split\n",
    "from sklearn.model_selection import train_test_split\n",
    "X_train, X_test, y_train, y_test = train_test_split(X, y, test_size=0.2, random_state=42)"
   ]
  },
  {
   "cell_type": "code",
   "execution_count": 3,
   "metadata": {},
   "outputs": [
    {
     "name": "stdout",
     "output_type": "stream",
     "text": [
      "Accuracy: 0.6277985074626866\n"
     ]
    }
   ],
   "source": [
    "# create a Naive Bayes model\n",
    "from sklearn.naive_bayes import GaussianNB\n",
    "gnb = GaussianNB()\n",
    "# fit the model\n",
    "gnb.fit(X_train, y_train)\n",
    "# predict on the test set\n",
    "y_pred = gnb.predict(X_test)\n",
    "# calculate the accuracy\n",
    "print(\"Accuracy:\", accuracy_score(y_test, y_pred))"
   ]
  },
  {
   "cell_type": "code",
   "execution_count": 4,
   "metadata": {},
   "outputs": [
    {
     "name": "stdout",
     "output_type": "stream",
     "text": [
      "0.6316961919375086\n",
      "{'var_smoothing': 1e-05}\n",
      "GaussianNB(var_smoothing=1e-05)\n",
      "Accuracy: 0.644589552238806\n"
     ]
    }
   ],
   "source": [
    "# do hyperparameter tuning on the Naive Bayes model\n",
    "from sklearn.model_selection import GridSearchCV\n",
    "# define the parameter values that should be searched\n",
    "param_grid = {'var_smoothing': np.logspace(0,-9, num=10)}\n",
    "# instantiate the grid\n",
    "grid = GridSearchCV(gnb, param_grid, cv=10, scoring='accuracy')\n",
    "\n",
    "# fit the grid with data\n",
    "grid.fit(X, y)\n",
    "# view the complete results\n",
    "grid.cv_results_\n",
    "# examine the best model\n",
    "print(grid.best_score_)\n",
    "print(grid.best_params_)\n",
    "print(grid.best_estimator_)\n",
    "# predict on the test set\n",
    "y_pred = grid.predict(X_test)\n",
    "# calculate the accuracy\n",
    "print(\"Accuracy:\", accuracy_score(y_test, y_pred))\n"
   ]
  },
  {
   "cell_type": "code",
   "execution_count": 5,
   "metadata": {},
   "outputs": [
    {
     "data": {
      "text/plain": [
       "0.644589552238806"
      ]
     },
     "execution_count": 5,
     "metadata": {},
     "output_type": "execute_result"
    }
   ],
   "source": [
    "# count how many time y_pred is equal to y_test\n",
    "np.sum(y_pred == y_test)\n",
    "# count how many times y_pred is not equal to y_test\n",
    "np.sum(y_pred != y_test)\n",
    "# calculate the accuracy\n",
    "np.sum(y_pred == y_test) / len(y_test)"
   ]
  }
 ],
 "metadata": {
  "kernelspec": {
   "display_name": "Python 3.9.12 ('base')",
   "language": "python",
   "name": "python3"
  },
  "language_info": {
   "codemirror_mode": {
    "name": "ipython",
    "version": 3
   },
   "file_extension": ".py",
   "mimetype": "text/x-python",
   "name": "python",
   "nbconvert_exporter": "python",
   "pygments_lexer": "ipython3",
   "version": "3.9.12"
  },
  "orig_nbformat": 4,
  "vscode": {
   "interpreter": {
    "hash": "a1cb11db1d9dd19842c8062a0085b340bbaaa5168fc68161d11dbb0d0c58245c"
   }
  }
 },
 "nbformat": 4,
 "nbformat_minor": 2
}
